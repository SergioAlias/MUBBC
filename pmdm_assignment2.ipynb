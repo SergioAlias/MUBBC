{
 "cells": [
  {
   "cell_type": "code",
   "execution_count": 21,
   "metadata": {},
   "outputs": [],
   "source": [
    "import numpy as np\n",
    "import matplotlib.pyplot as plt\n",
    "\n",
    "# The next line indicates to matplotlib to show the plots inline in the notebook\n",
    "%matplotlib inline"
   ]
  },
  {
   "cell_type": "markdown",
   "metadata": {},
   "source": [
    "# Programming assignment\n",
    "\n",
    "You have program a series of functions in order to generate a protein translation table. A protein is created from a sequence of nucleic acids codified in the messenger RNA (mRNA). This mRNA is read by the ribosome three bases at a time (called codons) to add one amino acid to the protein. In total there are $4^3=64$ different codons that correspond to the possible combinations of three bases.  Each codon codifies a single amino acid. The mRNA has one start codon that always codifies M and an end codon that signals the end of the protein.\n",
    "\n",
    "The objective of this assignment is to generate this translation table. To do so you will have to:\n",
    "\n",
    "+ Read the genome of a species from a FASTA file\n",
    "+ Read the annotation file for that genome to extract the location in the genome of the Coding Sequences (CDS) for each protein\n",
    "+ Extract the mRNAs from the genome that codifies each protein using its location \n",
    "+ Read the proteins from a FASTA file\n",
    "+ Generate the translation table using pairs of mRNA and protein\n",
    "\n",
    "\n",
    "In the following you will find the template of the functions to use and some other interesting execises "
   ]
  },
  {
   "cell_type": "markdown",
   "metadata": {},
   "source": [
    "# File parsing \n",
    "\n",
    "Implement the function below to parse a fasta file. Find an example of a fasta format file here:\n",
    "***\n",
    "<pre>>NC_000907.1:1073118-1073456 Haemophilus influenzae Rd KW20 chromoso\n",
    "ATGAAAACATTATTCACTTCGGTTGTATTGTGTGGTGCGCTGGTTGTTTCTTCGTCTTTTGCTGAGGAAA\n",
    "AAGCGACAGANCAAACCGCTCAATCTGTTGTGACAACTCAAGCTGAAGCTCAAGTAGCACCAGCCGTAGT\n",
    "GAGCGATAAATTGAATATCAACACAGCAACTGCCAGTGAAATTCAAAAATCCTTAACTGGCATTGGTGCG\n",
    "AAAAAAGCGGAAGCTATTGTGCAATATCGTGAAAAACACGGTAATTTTKCTAATGCAGAACAGCTTTTAG\n",
    "AAGTACAAGGAATTGGCAAAGCAACACTAGAGAAAAATCGTGATCGTATAATCTTTTAA\n",
    "</pre>\n",
    "***\n"
   ]
  },
  {
   "cell_type": "markdown",
   "metadata": {},
   "source": [
    "#### Read FASTA"
   ]
  },
  {
   "cell_type": "code",
   "execution_count": 22,
   "metadata": {},
   "outputs": [],
   "source": [
    "def readFasta(file):\n",
    "    with open(file,'r') as fasta_file:\n",
    "        fasta_dict = {}\n",
    "        name = ''\n",
    "        for line in fasta_file:\n",
    "            if line[0] == \">\":\n",
    "                name = line[1:].split()[0]\n",
    "                fasta_dict[name] = ''\n",
    "            else:\n",
    "                fasta_dict[name] += line.strip()\n",
    "    return fasta_dict"
   ]
  },
  {
   "cell_type": "code",
   "execution_count": 23,
   "metadata": {
    "scrolled": true
   },
   "outputs": [
    {
     "name": "stdout",
     "output_type": "stream",
     "text": [
      "All tests Ok\n"
     ]
    }
   ],
   "source": [
    "# Cell for checking if readFasta is working\n",
    "seqs = readFasta(\"phix174/phix.fa\")\n",
    "#print(seqs['gi|216019|gb|J02482.1|PX1CG'])\n",
    "# Check that the number of sequences is one\n",
    "assert(len(seqs)==1)\n",
    "# Check that the length of the sequences is correct\n",
    "assert(len(seqs['gi|216019|gb|J02482.1|PX1CG'])==5386)\n",
    "\n",
    "print(\"All tests Ok\")"
   ]
  },
  {
   "cell_type": "markdown",
   "metadata": {},
   "source": [
    "#### Some statistics"
   ]
  },
  {
   "cell_type": "code",
   "execution_count": 24,
   "metadata": {},
   "outputs": [],
   "source": [
    "def countBases(seq, bases = []):\n",
    "    \"\"\" Counts the number of occurrences of each base in the sequence seq\n",
    "        There are two return values: the list of bases and the list of counts\n",
    "    \"\"\"\n",
    "    counts = []\n",
    "    if not bases: # If there are not bases provided\n",
    "        for i in seq:\n",
    "            if i not in bases:\n",
    "                bases.append(i) # We will use all bases in the sequence\n",
    "    for b in bases: # Iterating every base\n",
    "        base_count = 0 # Variable to count \n",
    "        for i in seq: # Iterating the sequence\n",
    "            if i == b:\n",
    "                base_count += 1 # Counting matches\n",
    "        counts.append(base_count) # Adding the count to the list\n",
    "    return bases, counts"
   ]
  },
  {
   "cell_type": "code",
   "execution_count": 25,
   "metadata": {},
   "outputs": [
    {
     "data": {
      "image/png": "[encoded data removed]",
      "text/plain": [
       "<Figure size 432x288 with 1 Axes>"
      ]
     },
     "metadata": {
      "needs_background": "light"
     },
     "output_type": "display_data"
    }
   ],
   "source": [
    "# Use matplotlib to show the histogram of bases for phiX174\n",
    "frequencies = countBases(readFasta(\"phix174/phix.fa\")['gi|216019|gb|J02482.1|PX1CG'])\n",
    "y = frequencies[1]\n",
    "x = frequencies[0]\n",
    "_ = plt.bar(x, y, color = ('limegreen', 'seagreen', 'springgreen', 'mediumspringgreen'))"
   ]
  },
  {
   "cell_type": "code",
   "execution_count": 26,
   "metadata": {},
   "outputs": [],
   "source": [
    "def GCContent(seq):\n",
    "    \"\"\" Computes the percentage of GC content of a sequence. \n",
    "        Note that N should be ignored \"\"\"\n",
    "    GC_count = sum(countBases(seq, ['G', 'C'])[1])\n",
    "    AT_count = sum(countBases(seq, ['A', 'T'])[1])\n",
    "    return GC_count/(GC_count+AT_count)"
   ]
  },
  {
   "cell_type": "code",
   "execution_count": 27,
   "metadata": {},
   "outputs": [
    {
     "name": "stdout",
     "output_type": "stream",
     "text": [
      "All tests Ok\n"
     ]
    }
   ],
   "source": [
    "# Check that the GC content is correct\n",
    "seqs = readFasta(\"phix174/phix.fa\")\n",
    "assert(GCContent(seqs['gi|216019|gb|J02482.1|PX1CG'])==0.44764203490531007)\n",
    "# Check that the GC content is correct\n",
    "seqs = readFasta(\"plamodium_falciparum/Plasmodium_falciparumchromosome_1.fa\")\n",
    "assert(GCContent(seqs['NC_004325.1'])==0.20545724181242733)\n",
    "\n",
    "print(\"All tests Ok\")"
   ]
  },
  {
   "cell_type": "code",
   "execution_count": 28,
   "metadata": {},
   "outputs": [
    {
     "name": "stdout",
     "output_type": "stream",
     "text": [
      "[0.38150285542859297, 0.44764203490531007, 0.20545724181242733]\n"
     ]
    }
   ],
   "source": [
    "files = [\"haemophilus_influenzae/GCF_000027305.1_ASM2730v1_genomic.fna\",\n",
    "         \"phix174/phix.fa\",\n",
    "         \"plamodium_falciparum/Plasmodium_falciparumchromosome_1.fa\",]\n",
    "\n",
    "# Uncomment the following and comment the above if your computer can run it in a reasonable time\n",
    "\n",
    "#files = [\"haemophilus_influenzae/GCF_000027305.1_ASM2730v1_genomic.fna\",\n",
    "#         \"phix174/phix.fa\",\n",
    "#         \"plamodium_falciparum/Plasmodium_falciparumchromosome_1.fa\",\n",
    "#         \"arabidopsis_thaliana/GCF_000001735.3_TAIR10_genomic.fna\",\n",
    "#         \"homo_sapiens/homo_sapiens_chr21.fasta\"]\n",
    "\n",
    "gcs = []\n",
    "species = []\n",
    "for file in files:\n",
    "    seqs = readFasta(file)\n",
    "    # Count only the first sequence\n",
    "    keys = list(seqs.keys())\n",
    "    gcs.append(GCContent(seqs[keys[0]]))\n",
    "    species.append(keys[0])\n",
    "    \n",
    "print(gcs)"
   ]
  },
  {
   "cell_type": "code",
   "execution_count": 29,
   "metadata": {},
   "outputs": [
    {
     "data": {
      "image/png": "[encoded data removed]",
      "text/plain": [
       "<Figure size 432x288 with 1 Axes>"
      ]
     },
     "metadata": {
      "needs_background": "light"
     },
     "output_type": "display_data"
    }
   ],
   "source": [
    "# Use matplotlib to show the GC content of the different species with a bar plot\n",
    "_ = plt.bar(species, gcs, color = ('limegreen', 'seagreen', 'springgreen', 'mediumspringgreen'))\n",
    "diagonal = plt.xticks(size = 'small', rotation = 30)"
   ]
  },
  {
   "cell_type": "markdown",
   "metadata": {},
   "source": [
    "#### Read FASTQ"
   ]
  },
  {
   "cell_type": "code",
   "execution_count": 4,
   "metadata": {},
   "outputs": [],
   "source": [
    "def readFastq(file):\n",
    "    \"\"\" Read a FASTQ format file \"\"\"\n",
    "    reads = []\n",
    "    quals = []\n",
    "    with open(file, 'r') as f:\n",
    "        f = f.readlines()\n",
    "    for i in range(0,len(f)-1,4):\n",
    "        reads.append(f[i+1].strip())\n",
    "        quals.append([ord(qual) - 33 for qual in f[i+3].strip()])\n",
    "    return reads, quals"
   ]
  },
  {
   "cell_type": "code",
   "execution_count": 31,
   "metadata": {},
   "outputs": [
    {
     "name": "stdout",
     "output_type": "stream",
     "text": [
      "Wall time: 63 ms\n"
     ]
    },
    {
     "data": {
      "text/plain": [
       "5.011872336272714e-10"
      ]
     },
     "execution_count": 31,
     "metadata": {},
     "output_type": "execute_result"
    },
    {
     "data": {
      "image/png": "[encoded data removed]",
      "text/plain": [
       "<Figure size 432x288 with 1 Axes>"
      ]
     },
     "metadata": {
      "needs_background": "light"
     },
     "output_type": "display_data"
    }
   ],
   "source": [
    "import math\n",
    "\n",
    "# Use matplotlib to show the a histogram of Qs\n",
    "%time rr, qq = readFastq('phix174/SRR835775_1.first1000.fastq')\n",
    "#%time rr, qq = readFastq('sintetico/sample_01.fasta.fastq')\n",
    "\n",
    "q =np.concatenate(qq,axis=0)\n",
    "plt.xlabel('Q')\n",
    "plt.xlim((0,43))\n",
    "hh, bb = np.histogram(q,range(1,50))\n",
    "plt.bar(np.arange(1,49),hh)\n",
    "h = plt.hist(q,range(50))\n",
    "\n",
    "math.pow(10,-(ord('~')-33)/10)"
   ]
  },
  {
   "cell_type": "markdown",
   "metadata": {},
   "source": [
    "### Spark exercise (only this cell)"
   ]
  },
  {
   "cell_type": "code",
   "execution_count": null,
   "metadata": {},
   "outputs": [],
   "source": [
    "# Implement a sequence of spark transformations to read a fasta file \n",
    "#   and to compute the number of occurrences of each base. \n",
    "# \n",
    "# You can use count countBases inside a tranformation instead of a \n",
    "# lambda"
   ]
  },
  {
   "cell_type": "code",
   "execution_count": 17,
   "metadata": {},
   "outputs": [
    {
     "name": "stdout",
     "output_type": "stream",
     "text": [
      "[(u'A', 1291), (u'C', 1157), (u'G', 1254), (u'T', 1684)]\n"
     ]
    }
   ],
   "source": [
    "fasta_rdd = sc.textFile('phix174/phix.fa')\n",
    "\n",
    "lines_rdd = fasta_rdd.filter(lambda line: line[0] != \">\")\n",
    "\n",
    "ones_per_line_rdd = lines_rdd.map(lambda line: [(nt, 1) for nt in line])\n",
    "\n",
    "ones_rdd = ones_per_line_rdd.flatMap(lambda x: x)\n",
    "\n",
    "count_bases_rdd = ones_rdd.reduceByKey(lambda f1, f2: f1 + f2)\n",
    "\n",
    "print(count_bases_rdd.collect())"
   ]
  },
  {
   "cell_type": "markdown",
   "metadata": {},
   "source": [
    "# Obtaining traslation tables"
   ]
  },
  {
   "cell_type": "code",
   "execution_count": 32,
   "metadata": {},
   "outputs": [],
   "source": [
    "def complementary(gen):\n",
    "    \"\"\" From a sequence of nucleotides return the inverse complementary\n",
    "          e.g. GAACCT should return AGGTTC\n",
    "          Hint: Use a dictionary for the translations\n",
    "        \"\"\"\n",
    "    trans_dict = {\"A\":\"T\",\"C\":\"G\",\"G\":\"C\",\"T\":\"A\",\"N\":\"N\",\"R\":\"Y\",\"Y\":\"R\",\"S\":\"S\",\"W\":\"W\",\"K\":\"M\",\"M\":\"K\",\"B\":\"V\",\"V\":\"B\",\"D\":\"H\",\"H\":\"D\"}\n",
    "    return \"\".join([trans_dict[nt] for nt in gen[::-1]])"
   ]
  },
  {
   "cell_type": "code",
   "execution_count": 33,
   "metadata": {},
   "outputs": [
    {
     "name": "stdout",
     "output_type": "stream",
     "text": [
      "All tests OK!\n"
     ]
    }
   ],
   "source": [
    "# Tests\n",
    "assert(complementary('G')=='C')\n",
    "assert(complementary('AT')=='AT')\n",
    "assert(complementary('GC')=='GC')\n",
    "assert(complementary('GATACA')=='TGTATC')\n",
    "# If you added all possible combination of bases uncomment the \n",
    "# following line to check\n",
    "assert(complementary('GATACASWKMYRHDVBN')=='NVBHDYRKMWSTGTATC')\n",
    "\n",
    "print('All tests OK!')"
   ]
  },
  {
   "cell_type": "code",
   "execution_count": 34,
   "metadata": {},
   "outputs": [],
   "source": [
    "def extractProteinId(attribs):\n",
    "    \"\"\" Extract the protein_id from the complete string of the attributes \n",
    "        field of the gff \"\"\"\n",
    "    protein_id = attribs[attribs.find(\"protein_id=\")+len(\"protein_id=\"):]\n",
    "    i = protein_id.find(\";\")\n",
    "    if i>=0:\n",
    "        protein_id = protein_id[:i]\n",
    "        \n",
    "    return protein_id\n",
    "    \n",
    "def extractCDSFromGFF(gff_file):\n",
    "    \"\"\" This function extract the regions information from a gff file for all CDSs.\n",
    "        \n",
    "        This function returns a dictionary with the protein_id being the keys and \n",
    "        the values in a list with the sequence_id and tuples with (start, end, strand, frame)\n",
    "        \n",
    "        Note that a CDS might spread over multiple lines. For each line you should include \n",
    "        one tuple.\n",
    "        \n",
    "        Check the tests in the next cell for reference\n",
    "        \n",
    "    \"\"\"\n",
    "    cdss = {}\n",
    "    with open(gff_file, 'r') as f:\n",
    "        f = f.readlines()\n",
    "    for line in f:\n",
    "        if line[0] != \"#\":\n",
    "            fields = line.split('\\t')\n",
    "            if fields[2] == \"CDS\" and extractProteinId(fields[8]) not in cdss.keys():\n",
    "                cdss[extractProteinId(fields[8])] = [fields[0], (int(fields[3]), int(fields[4]), fields[6], int(fields[7]))]\n",
    "            elif fields[2] == \"CDS\" and extractProteinId(fields[8]) in cdss.keys():\n",
    "                cdss[extractProteinId(fields[8])].append((int(fields[3]),int(fields[4]), fields[6], int(fields[7])))\n",
    "    return cdss"
   ]
  },
  {
   "cell_type": "code",
   "execution_count": 35,
   "metadata": {},
   "outputs": [
    {
     "name": "stdout",
     "output_type": "stream",
     "text": [
      "All test are OK!\n"
     ]
    }
   ],
   "source": [
    "# Tests\n",
    "assert(extractCDSFromGFF('haemophilus_influenzae/test1.gff')=={'NP_438174.1': ['NC_000907.1', (2, 1021, '+', 0)]})\n",
    "assert(extractCDSFromGFF('haemophilus_influenzae/test2.gff')== {'NP_438174.1': ['NC_000907.1',  (2, 1021, '+', 0)],\n",
    "                                                  'NP_438175.1': ['NC_000907.1',  (1190, 3013, '+', 0)],\n",
    "                                                  'NP_438176.1': ['NC_000907.1', (3050, 3838, '-', 0)]})\n",
    "assert(extractCDSFromGFF('haemophilus_influenzae/test3.gff')=={'NP_438174.1': ['NC_000907.1', (2, 1021, '+', 0)],\n",
    "                 'NP_438271.2': ['NC_000907.1', (104277, 104318, '+', 0), (104318, 105274, '+',  0)]})\n",
    "print('All test are OK!')"
   ]
  },
  {
   "cell_type": "code",
   "execution_count": 36,
   "metadata": {},
   "outputs": [],
   "source": [
    "def obtainTranslationTable(cds, protein):\n",
    "    \"\"\" Creates a translation dictionary from the protein and DNA sequence.\n",
    "        The function returns:\n",
    "            1- A dictionary with the translation table where the codons are the\n",
    "               keys of the dictionary and the amino acids the values.\n",
    "            2- The start codon as a string\n",
    "            \n",
    "        Note 1: The sequence cds includes start and end codons. \n",
    "        Note 2: First codon always codifies M that is also included in the protein.\n",
    "        Note 3: End codon do not codify an a aminoacid and should be included in the\n",
    "                dictionary as *.\n",
    "                \n",
    "        Example: (Spaces added in seqeunces for readability) \n",
    "          cds     = GTG TTT TTG GTG TGG TGA\n",
    "          protein = M   F   L   V   W\n",
    "          \n",
    "          should return\n",
    "            tranlation dictionary = {'TTT':'F', 'TTG':'L', 'GTG':'V', 'TGG':'W', 'TGA':'*'}\n",
    "            start codon = 'GTG'\n",
    "        \"\"\"\n",
    "    start_codon = cds[:3]\n",
    "    trans_table = {}\n",
    "    codons = []\n",
    "    while len(cds) != 0:\n",
    "        codons.append(cds[:3])\n",
    "        cds = cds[3:]\n",
    "    for c in codons[:-1]:\n",
    "        trans_table[c] = protein[0]\n",
    "        protein = protein[1:]\n",
    "    trans_table[codons[-1]] = '*'\n",
    "    return trans_table, start_codon"
   ]
  },
  {
   "cell_type": "code",
   "execution_count": 37,
   "metadata": {},
   "outputs": [
    {
     "name": "stdout",
     "output_type": "stream",
     "text": [
      "All test OK!\n"
     ]
    }
   ],
   "source": [
    "translation_dictionary, start_codon = obtainTranslationTable('GTGTTTTTGGTGTGGTGA','MFLVW')\n",
    "assert(translation_dictionary=={'TTT':'F', 'TTG':'L', 'GTG':'V', 'TGG':'W', 'TGA':'*'})\n",
    "assert(start_codon == 'GTG')\n",
    "\n",
    "print('All test OK!')"
   ]
  },
  {
   "cell_type": "code",
   "execution_count": 38,
   "metadata": {},
   "outputs": [],
   "source": [
    "def compose_mRNA(cromosome, cds):\n",
    "    \"\"\"Returns the mRNA from the complete sequence of DNA and the locations of the CDS. \n",
    "        Parameters:\n",
    "            -cromosome: a string with the whole cromosome\n",
    "            -cds: a list containing tuples of (start, end, strand, phase) \"\"\"\n",
    "    mrna = ''\n",
    "    for location in cds:\n",
    "        if location[2] == '-':\n",
    "            mrna += complementary(cromosome[location[0]-1:location[1]])\n",
    "        else:\n",
    "            mrna += cromosome[location[0]-1:location[1]]\n",
    "    return mrna"
   ]
  },
  {
   "cell_type": "code",
   "execution_count": 39,
   "metadata": {},
   "outputs": [
    {
     "name": "stdout",
     "output_type": "stream",
     "text": [
      "All tests are OK!\n"
     ]
    }
   ],
   "source": [
    "cod = 'GTGTTTTTGGTGTGGTGA'\n",
    "\n",
    "assert(compose_mRNA(cod,[(1,len(cod),'+',0)])==cod)\n",
    "assert(compose_mRNA(cod,[(1,len(cod),'-',0)])==complementary(cod))\n",
    "assert(compose_mRNA(\"GGGGGGGGGG\"+cod+\"GGGGGG\",[(11,10+len(cod),'+',0)])==cod)\n",
    "assert(compose_mRNA(\"GGGGGGGGGG\"+cod+\"GGGGGG\",[(11,10+len(cod),'-',0)])==complementary(cod))\n",
    "assert(compose_mRNA(\"GGGGGGGGGG\"+cod[:9]+\"GGGGGG\"+cod[9:],[(11,19,'+',0),(26,34,'+',0)])==cod)\n",
    "assert(compose_mRNA(\"GGGGGGGGGG\"+cod[:9]+\"GGGGGG\"+cod[9:],[(26,34,'-',0),(11,19,'-',0)])==complementary(cod))\n",
    "\n",
    "print(\"All tests are OK!\")"
   ]
  },
  {
   "cell_type": "markdown",
   "metadata": {},
   "source": [
    "### Cell to compute the translation tables"
   ]
  },
  {
   "cell_type": "code",
   "execution_count": 40,
   "metadata": {},
   "outputs": [
    {
     "name": "stdout",
     "output_type": "stream",
     "text": [
      "List of start codons:  {'ATG', 'TTG'}\n",
      "There are 64 entries in the tranlation table.\n",
      "Entries:\n",
      "\n",
      "AAA->K    AAC->N    AAG->K    AAT->N    ACA->T    ACC->T    ACG->T    ACT->T    \n",
      "AGA->R    AGC->S    AGG->R    AGT->S    ATA->I    ATC->I    ATG->M    ATT->I    \n",
      "CAA->Q    CAC->H    CAG->Q    CAT->H    CCA->P    CCC->P    CCG->P    CCT->P    \n",
      "CGA->R    CGC->R    CGG->R    CGT->R    CTA->L    CTC->L    CTG->L    CTT->L    \n",
      "GAA->E    GAC->D    GAG->E    GAT->D    GCA->A    GCC->A    GCG->A    GCT->A    \n",
      "GGA->G    GGC->G    GGG->G    GGT->G    GTA->V    GTC->V    GTG->V    GTT->V    \n",
      "TAA->*    TAC->Y    TAG->*    TAT->Y    TCA->S    TCC->S    TCG->S    TCT->S    \n",
      "TGA->*    TGC->C    TGG->W    TGT->C    TTA->L    TTC->F    TTG->L    TTT->F    "
     ]
    }
   ],
   "source": [
    "def cleanTransTable(tt):\n",
    "    # Remove entries that codify 'X' (unknown)\n",
    "    tt = {k:tt[k] for k in tt if tt[k]!='X'}\n",
    "    # Remove entries that are not GCAT only\n",
    "    tt = {k:tt[k] for k in tt if k.count('G')+k.count('C')+k.count('A')+k.count('T') == 3}\n",
    "    \n",
    "    return tt\n",
    "\n",
    "# Read data\n",
    "genome   = readFasta('haemophilus_influenzae/GCF_000027305.1_ASM2730v1_genomic.fna')\n",
    "cdss     = extractCDSFromGFF('haemophilus_influenzae/test4.gff')\n",
    "proteins = readFasta('haemophilus_influenzae/GCF_000027305.1_ASM2730v1_protein.faa')\n",
    "\n",
    "# Init trans table and start codons\n",
    "translation_table = {}\n",
    "start_codons = set()\n",
    "\n",
    "# Loop over all mRNA found\n",
    "for protein_id in cdss:\n",
    "    cds    = cdss[protein_id]\n",
    "    seq_id = cds[0]\n",
    "    \n",
    "    mRNA   = compose_mRNA(genome[seq_id], cds[1:])\n",
    "    tt, sc = obtainTranslationTable(mRNA, proteins[protein_id])\n",
    "    \n",
    "    translation_table.update(tt)\n",
    "    start_codons.add(sc)\n",
    "\n",
    "# Remove spurious entries from the result\n",
    "translation_table = cleanTransTable(translation_table)\n",
    "\n",
    "#Print result\n",
    "print(\"List of start codons: \", start_codons)\n",
    "print(\"There are {0} entries in the tranlation table.\".format(len(translation_table)))\n",
    "print(\"Entries:\")\n",
    "\n",
    "for i,k in enumerate(sorted(translation_table.keys())):\n",
    "    if i%8==0:\n",
    "        print()\n",
    "    print(k + \"->\" + translation_table[k], end='    ')\n",
    "    \n"
   ]
  }
 ],
 "metadata": {
  "kernelspec": {
   "display_name": "Python 3 (ipykernel)",
   "language": "python",
   "name": "python3"
  },
  "language_info": {
   "codemirror_mode": {
    "name": "ipython",
    "version": 3
   },
   "file_extension": ".py",
   "mimetype": "text/x-python",
   "name": "python",
   "nbconvert_exporter": "python",
   "pygments_lexer": "ipython3",
   "version": "3.9.2"
  }
 },
 "nbformat": 4,
 "nbformat_minor": 2
}
